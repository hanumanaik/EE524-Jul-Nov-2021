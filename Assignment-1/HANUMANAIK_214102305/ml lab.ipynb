{
 "cells": [
  {
   "cell_type": "code",
   "execution_count": 1,
   "id": "ead0e558",
   "metadata": {},
   "outputs": [
    {
     "name": "stdout",
     "output_type": "stream",
     "text": [
      "Hello World!\n"
     ]
    }
   ],
   "source": [
    "print('Hello World!')"
   ]
  },
  {
   "cell_type": "code",
   "execution_count": 2,
   "id": "1609a24f",
   "metadata": {},
   "outputs": [
    {
     "name": "stdout",
     "output_type": "stream",
     "text": [
      "enter a value:5\n",
      "enter b value:6\n",
      "c=a+b is: 11\n",
      "d=a-b is: -1\n",
      "e=a*b is: 30\n",
      "f=a/b is: 0.8333333333333334\n",
      "g=a%b is: 5\n"
     ]
    }
   ],
   "source": [
    "a=int(input('enter a value:'))\n",
    "b=int(input('enter b value:'))\n",
    "c=a+b\n",
    "d=a-b\n",
    "e=a*b\n",
    "f=a/b\n",
    "g=a%b\n",
    "print('c=a+b is:',c)\n",
    "print('d=a-b is:',d)\n",
    "print('e=a*b is:',e)\n",
    "print('f=a/b is:',f)\n",
    "print('g=a%b is:',g)"
   ]
  },
  {
   "cell_type": "code",
   "execution_count": 3,
   "id": "4a723ccb",
   "metadata": {},
   "outputs": [
    {
     "name": "stdout",
     "output_type": "stream",
     "text": [
      "enter num:5\n",
      "factiorial of num is: 120\n"
     ]
    }
   ],
   "source": [
    "num=int(input('enter num:'))\n",
    "f=1\n",
    "i=1\n",
    "while i<=num:\n",
    "    f=f*i\n",
    "    i+=1\n",
    "print('factiorial of num is:',f)"
   ]
  },
  {
   "cell_type": "code",
   "execution_count": 4,
   "id": "a8e64dd8",
   "metadata": {},
   "outputs": [
    {
     "name": "stdout",
     "output_type": "stream",
     "text": [
      "enter start number:2\n",
      "enter stop number:9\n",
      "2 is prime number\n",
      "3 is prime number\n",
      "5 is prime number\n",
      "7 is prime number\n"
     ]
    }
   ],
   "source": [
    "n=int(input('enter start number:'))\n",
    "m=int(input('enter stop number:'))\n",
    "for i in range(n,m+1):\n",
    "    c=1\n",
    "    for j in range(1,i):\n",
    "        if i%j==0:\n",
    "            c+=1\n",
    "    if c==2:\n",
    "        print(i,'is prime number')"
   ]
  },
  {
   "cell_type": "code",
   "execution_count": 5,
   "id": "6c981083",
   "metadata": {},
   "outputs": [
    {
     "name": "stdout",
     "output_type": "stream",
     "text": [
      "enter first number:20\n",
      "enter second number:50\n",
      "lcm of a and b is 100\n"
     ]
    }
   ],
   "source": [
    "a=int(input('enter first number:'))\n",
    "b=int(input('enter second number:'))\n",
    "if a>b:\n",
    "    heigher=a\n",
    "else:\n",
    "    heigher=b\n",
    "while True:\n",
    "    if heigher%a==0 and heigher%b==0:\n",
    "        print(\"lcm of a and b is\",heigher)\n",
    "        break\n",
    "    else:\n",
    "        heigher*=2"
   ]
  },
  {
   "cell_type": "code",
   "execution_count": 6,
   "id": "abed0031",
   "metadata": {},
   "outputs": [
    {
     "name": "stdout",
     "output_type": "stream",
     "text": [
      "sorted list: 0 61\n",
      "sorted list: 1 54\n",
      "sorted list: 2 40\n",
      "sorted list: 3 22\n",
      "sorted list: 4 22\n",
      "sorted list: 5 19\n",
      "sorted list: 6 17\n",
      "sorted list: 7 16\n",
      "sorted list: 8 15\n",
      "sorted list: 9 9\n",
      "sorted list: 10 8\n",
      "sorted list: 11 7\n",
      "sorted list: 12 6\n",
      "sorted list: 13 5\n",
      "sorted list: 14 2\n"
     ]
    }
   ],
   "source": [
    "list1=[6,19,22,16,15,22,54,61,40,17,5,2,7,8,9]\n",
    "for k in range(len(list1)):\n",
    "    for j in range(len(list1)-1):\n",
    "        for i in range(len(list1)-1):\n",
    "            if list1[i]<list1[i+1]:\n",
    "                list1[i],list1[i+1]=list1[i+1],list1[i]\n",
    "    print(\"sorted list:\",k,list1[k])"
   ]
  },
  {
   "cell_type": "code",
   "execution_count": 7,
   "id": "f0ebacaa",
   "metadata": {},
   "outputs": [
    {
     "name": "stdout",
     "output_type": "stream",
     "text": [
      "sorted list\n",
      "[ 1  2  3  4  5  7  8  9 10 11 12 14 16 21 30 75]\n"
     ]
    }
   ],
   "source": [
    "import numpy as np\n",
    "arr=np.array([4,8,9,5,2,10,21,75,16,12,7,30,14,11,3,1])\n",
    "print('sorted list')\n",
    "arr.sort()\n",
    "print(arr)"
   ]
  },
  {
   "cell_type": "code",
   "execution_count": 8,
   "id": "b047b80e",
   "metadata": {},
   "outputs": [
    {
     "name": "stdout",
     "output_type": "stream",
     "text": [
      "m,n values should be selected by users\n",
      "Please provide m value2\n",
      "Please provide n value3\n",
      "Martix is successfully created\n",
      "Created matrix with in range of [-2,5] with precision 2 for neat presentation\n",
      " \n",
      "[[ 1.05  1.29 -1.94]\n",
      " [-0.12 -0.3   4.09]]\n",
      " \n"
     ]
    }
   ],
   "source": [
    "import numpy as np\n",
    "import random\n",
    "\n",
    "print('m,n values should be selected by users')\n",
    "m=input('Please provide m value')\n",
    "n=input('Please provide n value')\n",
    "m=int(m)\n",
    "n=int(n)\n",
    "data=np.zeros(shape=(m,n))\n",
    "for i in range(m):\n",
    "    for j in range(n):\n",
    "        data[i][j] = round(random.uniform(-2,5), 2) \n",
    "\n",
    "print('Martix is successfully created')\n",
    "print('Created matrix with in range of [-2,5] with precision 2 for neat presentation')\n",
    "print(' ')\n",
    "print(data)\n",
    "print(' ')"
   ]
  },
  {
   "cell_type": "code",
   "execution_count": 9,
   "id": "99c1f1c8",
   "metadata": {},
   "outputs": [
    {
     "name": "stdout",
     "output_type": "stream",
     "text": [
      "enter rows2\n",
      "enter columns4\n",
      "enter p value3\n",
      "  \n",
      "Created random M1 with mxn size, M1: [[0.05410949 0.91309301 0.77907148 0.92075316]\n",
      " [0.20407121 0.2816652  0.75869196 0.47330988]]\n",
      " \n",
      "Created random M2 with nxp size, M2: [[0.89064099 0.5224671  0.93246711]\n",
      " [0.92592653 0.20508279 0.21042738]\n",
      " [0.0432978  0.86125062 0.0432634 ]\n",
      " [0.65542783 0.69542284 0.17573915]]\n",
      " \n",
      "The resultant matrix is:\n",
      "[[1.53 1.53 0.43]\n",
      " [0.78 1.15 0.36]]\n",
      " \n"
     ]
    }
   ],
   "source": [
    "import numpy as np\n",
    "m=int(input('enter rows'))\n",
    "n=int(input('enter columns'))\n",
    "p=int(input('enter p value'))\n",
    "M1 = np.random.rand(m,n)\n",
    "M2 = np.random.rand(n,p)\n",
    "print('  ')\n",
    "print('Created random M1 with mxn size, M1:',M1)\n",
    "print(' ')\n",
    "print('Created random M2 with nxp size, M2:',M2)\n",
    "print(' ')\n",
    "result = np.zeros(shape=(m,p))\n",
    "# iterating by row of M1\n",
    "for i in range(len(M1)):\n",
    " \n",
    "    # iterating by column by M2\n",
    "    for j in range(len(M2[0])):\n",
    " \n",
    "        # iterating by rows of M2\n",
    "        for k in range(len(M2)):\n",
    "            result[i][j] += M1[i][k] * M2[k][j]\n",
    "            result[i][j] = round(result[i][j],2)\n",
    "print('The resultant matrix is:') \n",
    "print(result)\n",
    "print(' ')"
   ]
  },
  {
   "cell_type": "code",
   "execution_count": 10,
   "id": "8629d1ef",
   "metadata": {},
   "outputs": [
    {
     "name": "stdout",
     "output_type": "stream",
     "text": [
      "12 answer\n",
      "c1+c2 is: (6+8j)\n",
      "c1-c2 is: (-2-4j)\n",
      "c1*c2 is: (-4+20j)\n",
      "c1/c2 is (0.3846153846153846-0.07692307692307694j)\n",
      "mod os c1 is 2.8284271247461903\n",
      "mod os c2 is 7.211102550927978\n",
      "angle of c1 0.7853981633974483\n",
      "angle of c2 0.982793723247329\n"
     ]
    }
   ],
   "source": [
    "print('12 answer')\n",
    "import math\n",
    "c1=2+2j\n",
    "c2=4+6j\n",
    "a=c1+c2\n",
    "b=c1-c2\n",
    "c=c1*c2\n",
    "d=c1/c2\n",
    "e=c1.real\n",
    "f=c1.imag\n",
    "h=c2.real\n",
    "i=c2.imag\n",
    "x=math.sqrt(e**2+f**2)\n",
    "y=math.sqrt(h**2+i**2)\n",
    "\n",
    "print('c1+c2 is:',a)\n",
    "print('c1-c2 is:',b)\n",
    "print('c1*c2 is:',c)\n",
    "print('c1/c2 is',d)\n",
    "print('mod os c1 is',x)\n",
    "print('mod os c2 is',y)\n",
    "print('angle of c1',math.atan(f/e))\n",
    "print('angle of c2',math.atan(i/h))"
   ]
  },
  {
   "cell_type": "code",
   "execution_count": 11,
   "id": "91919db9",
   "metadata": {},
   "outputs": [
    {
     "name": "stdout",
     "output_type": "stream",
     "text": [
      "13th Answer\n",
      " \n",
      "note: Range may be wrong printed, lets plot the graph with the range considering as [-10,10]\n",
      "Succesfully plotted check the plot in its section\n",
      "\n"
     ]
    },
    {
     "data": {
      "image/png": "[encoded data removed]",
      "text/plain": [
       "<Figure size 432x288 with 1 Axes>"
      ]
     },
     "metadata": {
      "needs_background": "light"
     },
     "output_type": "display_data"
    }
   ],
   "source": [
    "print('13th Answer')\n",
    "print(' ')\n",
    "print('note: Range may be wrong printed, lets plot the graph with the range considering as [-10,10]')\n",
    "from matplotlib import pyplot as plt\n",
    "import math\n",
    "\n",
    "BOUND = 10\n",
    "\n",
    "x = [float(i)/100 for i in range(-BOUND, +BOUND)]\n",
    "y = [z*3 + 3 for z in x]\n",
    "\n",
    "#plt.xlim(-10,10) #can place limit but without the limit ans looks more better \n",
    "plt.ylim(-7,+7)\n",
    "plt.plot(x, y)\n",
    "\n",
    "print('Succesfully plotted check the plot in its section')\n",
    "print('')"
   ]
  },
  {
   "cell_type": "code",
   "execution_count": null,
   "id": "f18c5433",
   "metadata": {},
   "outputs": [],
   "source": []
  }
 ],
 "metadata": {
  "kernelspec": {
   "display_name": "Python 3",
   "language": "python",
   "name": "python3"
  },
  "language_info": {
   "codemirror_mode": {
    "name": "ipython",
    "version": 3
   },
   "file_extension": ".py",
   "mimetype": "text/x-python",
   "name": "python",
   "nbconvert_exporter": "python",
   "pygments_lexer": "ipython3",
   "version": "3.8.8"
  }
 },
 "nbformat": 4,
 "nbformat_minor": 5
}
